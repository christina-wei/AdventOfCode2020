{
 "cells": [
  {
   "cell_type": "code",
   "execution_count": null,
   "metadata": {},
   "outputs": [],
   "source": [
    "## Day 3\n",
    "https://adventofcode.com/2020/day/3"
   ]
  },
  {
   "cell_type": "code",
   "execution_count": 24,
   "metadata": {},
   "outputs": [
    {
     "name": "stdout",
     "output_type": "stream",
     "text": [
      "31\n",
      "323\n"
     ]
    }
   ],
   "source": [
    "f=open(\"Day 3.txt\", \"r\")\n",
    "batch = f.read().split('\\n') #Split by new line\n",
    "row_len = len(batch[0])\n",
    "print(row_len)\n",
    "print(len(batch))"
   ]
  },
  {
   "cell_type": "code",
   "execution_count": 28,
   "metadata": {},
   "outputs": [],
   "source": [
    "def toboggan(right, down):\n",
    "\n",
    "    cur_row = 0\n",
    "    cur_col = 0\n",
    "    \n",
    "    trees = 0\n",
    "\n",
    "    while cur_col < len(batch)-right:\n",
    "        cur_row += right\n",
    "        cur_row = cur_row % row_len\n",
    "        cur_col += down\n",
    "\n",
    "        if batch[cur_col][cur_row] == '#': trees +=1\n",
    "    \n",
    "    return trees;\n",
    "    "
   ]
  },
  {
   "cell_type": "code",
   "execution_count": 29,
   "metadata": {},
   "outputs": [
    {
     "name": "stdout",
     "output_type": "stream",
     "text": [
      "181\n"
     ]
    }
   ],
   "source": [
    "#Day 3 - Part 1\n",
    "right = 3\n",
    "down = 1\n",
    "\n",
    "print(toboggan(right, down))"
   ]
  },
  {
   "cell_type": "code",
   "execution_count": 34,
   "metadata": {},
   "outputs": [
    {
     "name": "stdout",
     "output_type": "stream",
     "text": [
      "1260601650\n"
     ]
    }
   ],
   "source": [
    "#Day 3 - Part 2\n",
    "\n",
    "r1d1 = toboggan(1,1)\n",
    "r3d1 = toboggan(3,1)\n",
    "r5d1 = toboggan(5,1)\n",
    "r7d1 = toboggan(7,1)\n",
    "r1d2 = toboggan(1,2)\n",
    "\n",
    "print(r1d1*r3d1*r5d1*r7d1*r1d2)"
   ]
  },
  {
   "cell_type": "code",
   "execution_count": null,
   "metadata": {},
   "outputs": [],
   "source": []
  }
 ],
 "metadata": {
  "kernelspec": {
   "display_name": "Python 3",
   "language": "python",
   "name": "python3"
  },
  "language_info": {
   "codemirror_mode": {
    "name": "ipython",
    "version": 3
   },
   "file_extension": ".py",
   "mimetype": "text/x-python",
   "name": "python",
   "nbconvert_exporter": "python",
   "pygments_lexer": "ipython3",
   "version": "3.8.3"
  }
 },
 "nbformat": 4,
 "nbformat_minor": 4
}
