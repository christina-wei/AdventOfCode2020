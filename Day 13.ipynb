{
 "cells": [
  {
   "cell_type": "code",
   "execution_count": 28,
   "metadata": {},
   "outputs": [
    {
     "name": "stdout",
     "output_type": "stream",
     "text": [
      "1000677\n",
      "['29', 'x', 'x', 'x', 'x', 'x', 'x', 'x', 'x', 'x', 'x', 'x', 'x', 'x', 'x', 'x', 'x', 'x', 'x', '41', 'x', 'x', 'x', 'x', 'x', 'x', 'x', 'x', 'x', '661', 'x', 'x', 'x', 'x', 'x', 'x', 'x', 'x', 'x', 'x', 'x', 'x', '13', '17', 'x', 'x', 'x', 'x', 'x', 'x', 'x', 'x', '23', 'x', 'x', 'x', 'x', 'x', 'x', 'x', '521', 'x', 'x', 'x', 'x', 'x', '37', 'x', 'x', 'x', 'x', 'x', 'x', 'x', 'x', 'x', 'x', 'x', 'x', '19']\n"
     ]
    }
   ],
   "source": [
    "import math\n",
    "\n",
    "f=open(\"Day 13.txt\", \"r\")\n",
    "batch = f.read().split('\\n') #Split by new lines\n",
    "timestamp = int(batch[0])\n",
    "buses = batch[1].split(',')\n",
    "\n",
    "print(timestamp)\n",
    "print(buses)"
   ]
  },
  {
   "cell_type": "code",
   "execution_count": 29,
   "metadata": {},
   "outputs": [
    {
     "name": "stdout",
     "output_type": "stream",
     "text": [
      "161\n"
     ]
    }
   ],
   "source": [
    "#Part 1\n",
    "valid_buses = list(filter(lambda x: x != 'x', buses))\n",
    "valid_buses = [int(x) for x in valid_buses]\n",
    "next_available = [math.ceil(timestamp/x) * x for x in valid_buses]\n",
    "\n",
    "index = next_available.index(min(next_available))\n",
    "ID = (next_available[index] - timestamp) * valid_buses[index]\n",
    "\n",
    "#print(next_available[index])\n",
    "#print(valid_buses[index])\n",
    "print(ID)\n",
    "\n",
    "#print(valid_buses)\n",
    "#print(next_available)"
   ]
  },
  {
   "cell_type": "code",
   "execution_count": 31,
   "metadata": {},
   "outputs": [
    {
     "name": "stdout",
     "output_type": "stream",
     "text": [
      "213890632230818\n",
      "[0, 22, 632, 10, 8, 17, 461, 8, 16]\n",
      "[0, 22, 632, 10, 8, 17, 461, 8, 16]\n"
     ]
    }
   ],
   "source": [
    "# Part 2 - using Chinese Remainder Theorem\n",
    "import math\n",
    "\n",
    "value = buses\n",
    "\n",
    "mod = [int(v) for v in value if v != 'x']\n",
    "index = [i for i,v in enumerate(value) if v != 'x']\n",
    "remainder = [(m-i) % m for m,i in zip(mod, index)]\n",
    "\n",
    "components = []\n",
    "for m in mod:\n",
    "    #print([x for x in mod if x != m])\n",
    "    components.append(math.prod([x for x in mod if x != m]))\n",
    "\n",
    "#print(components)\n",
    "#print(sum(components))\n",
    "\n",
    "multiplier = []\n",
    "for c,m,r in zip(components, mod, remainder):\n",
    "    \n",
    "    i = 1\n",
    "    while True:\n",
    "        #print(c,m,c*i % m, r)\n",
    "        if c*i % m == r:\n",
    "            multiplier.append(i)\n",
    "            break\n",
    "        i += 1\n",
    "\n",
    "time = sum([c*m for c,m in zip(components, multiplier)]) % math.prod(mod)\n",
    "print(time)\n",
    "print([time % m for m in mod])\n",
    "print(remainder)"
   ]
  },
  {
   "cell_type": "code",
   "execution_count": null,
   "metadata": {},
   "outputs": [],
   "source": []
  }
 ],
 "metadata": {
  "kernelspec": {
   "display_name": "Python 3",
   "language": "python",
   "name": "python3"
  },
  "language_info": {
   "codemirror_mode": {
    "name": "ipython",
    "version": 3
   },
   "file_extension": ".py",
   "mimetype": "text/x-python",
   "name": "python",
   "nbconvert_exporter": "python",
   "pygments_lexer": "ipython3",
   "version": "3.8.3"
  }
 },
 "nbformat": 4,
 "nbformat_minor": 4
}
