{
 "cells": [
  {
   "cell_type": "markdown",
   "metadata": {},
   "source": [
    "# Day 15\n",
    "https://adventofcode.com/2020/day/15"
   ]
  },
  {
   "cell_type": "code",
   "execution_count": 3,
   "metadata": {},
   "outputs": [
    {
     "name": "stdout",
     "output_type": "stream",
     "text": [
      "[1, 20, 8, 12, 0, 14]\n"
     ]
    }
   ],
   "source": [
    "import copy\n",
    "f=open(\"Day 15.txt\", \"r\")\n",
    "batch = [int(x) for x in f.read().split(',')] #split by comma\n",
    "\n",
    "print(batch)"
   ]
  },
  {
   "cell_type": "code",
   "execution_count": 6,
   "metadata": {},
   "outputs": [],
   "source": [
    "def memoryGame(start, end):\n",
    "\n",
    "    mem_key = dict()\n",
    "\n",
    "    last = start[-1]\n",
    "\n",
    "    for i, x in enumerate(start):\n",
    "        mem_key[x] = (-1, i+1)\n",
    "\n",
    "    for i in range(len(start)+1, end+1, 1):\n",
    "        #if i % 100000 == 0: print(\"Run\",i,\"Last\", last, mem_key)\n",
    "\n",
    "        (a, b) = mem_key[last]\n",
    "        last = 0 if a == -1 else b - a\n",
    "\n",
    "        if last in mem_key:\n",
    "            mem_key[last] = (mem_key[last][1], i)\n",
    "        else:\n",
    "            mem_key[last] = (-1, i)\n",
    "\n",
    "        #print(\"Value\",last)\n",
    "\n",
    "    return last"
   ]
  },
  {
   "cell_type": "code",
   "execution_count": 8,
   "metadata": {},
   "outputs": [
    {
     "name": "stdout",
     "output_type": "stream",
     "text": [
      "492\n",
      "63644\n"
     ]
    }
   ],
   "source": [
    "print(memoryGame(batch, 2020))\n",
    "print(memoryGame(batch, 30000000))"
   ]
  },
  {
   "cell_type": "code",
   "execution_count": null,
   "metadata": {},
   "outputs": [],
   "source": []
  }
 ],
 "metadata": {
  "kernelspec": {
   "display_name": "Python 3",
   "language": "python",
   "name": "python3"
  }
 },
 "nbformat": 4,
 "nbformat_minor": 4
}
