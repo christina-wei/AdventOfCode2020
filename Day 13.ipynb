{
 "cells": [
  {
   "cell_type": "code",
   "execution_count": 1,
   "metadata": {},
   "outputs": [
    {
     "name": "stdout",
     "output_type": "stream",
     "text": [
      "1000677\n",
      "['29', 'x', 'x', 'x', 'x', 'x', 'x', 'x', 'x', 'x', 'x', 'x', 'x', 'x', 'x', 'x', 'x', 'x', 'x', '41', 'x', 'x', 'x', 'x', 'x', 'x', 'x', 'x', 'x', '661', 'x', 'x', 'x', 'x', 'x', 'x', 'x', 'x', 'x', 'x', 'x', 'x', '13', '17', 'x', 'x', 'x', 'x', 'x', 'x', 'x', 'x', '23', 'x', 'x', 'x', 'x', 'x', 'x', 'x', '521', 'x', 'x', 'x', 'x', 'x', '37', 'x', 'x', 'x', 'x', 'x', 'x', 'x', 'x', 'x', 'x', 'x', 'x', '19']\n"
     ]
    }
   ],
   "source": [
    "import math\n",
    "\n",
    "f=open(\"Day 13.txt\", \"r\")\n",
    "batch = f.read().split('\\n') #Split by new lines\n",
    "timestamp = int(batch[0])\n",
    "buses = batch[1].split(',')\n",
    "\n",
    "print(timestamp)\n",
    "print(buses)"
   ]
  },
  {
   "cell_type": "code",
   "execution_count": 2,
   "metadata": {},
   "outputs": [
    {
     "name": "stdout",
     "output_type": "stream",
     "text": [
      "161\n"
     ]
    }
   ],
   "source": [
    "#Part 1\n",
    "valid_buses = list(filter(lambda x: x != 'x', buses))\n",
    "valid_buses = [int(x) for x in valid_buses]\n",
    "next_available = [math.ceil(timestamp/x) * x for x in valid_buses]\n",
    "\n",
    "index = next_available.index(min(next_available))\n",
    "ID = (next_available[index] - timestamp) * valid_buses[index]\n",
    "\n",
    "#print(next_available[index])\n",
    "#print(valid_buses[index])\n",
    "print(ID)\n",
    "\n",
    "#print(valid_buses)\n",
    "#print(next_available)"
   ]
  },
  {
   "cell_type": "code",
   "execution_count": null,
   "metadata": {},
   "outputs": [],
   "source": [
    "#Part 2 - not working\n",
    "#BRUTE FORCE DOESN\"T WORK -- NEED TO FIGURE THIS OUT\n",
    "\n",
    "import math\n",
    "\n",
    "f=open(\"Day 13.txt\", \"r\")\n",
    "batch = f.read().split('\\n') #Split by new lines\n",
    "timestamp = int(batch[0])\n",
    "buses = batch[1].split(',')\n",
    "\n",
    "#batch = '1789,37,47,1889'\n",
    "#buses = batch.split(',')\n",
    "\n",
    "buses = [-1 if v == 'x' else int(v) for v in buses]\n",
    "\n",
    "max_bus = max(buses)\n",
    "bus_diff = [x - buses.index(max_bus) for x in range(len(buses))]\n",
    "bus_diff = ['x' if x == -1 else y for x, y in zip(buses,bus_diff)]\n",
    "buses = list(filter(lambda x: x != -1, buses))\n",
    "bus_diff = list(filter(lambda x: x != 'x', bus_diff))\n",
    "\n",
    "print(max_bus)\n",
    "print(buses)\n",
    "print(bus_diff)\n",
    "print(\"\\n\")\n",
    "\n",
    "i = math.floor(100000000000000 / max_bus)\n",
    "#i = 1\n",
    "while True:\n",
    "    \n",
    "    max_time = max_bus * i\n",
    "    bus_times = [math.floor(max_time/x)*x if d < 0 else math.ceil(max_time/x)*x for d, x in zip(bus_diff, buses)]\n",
    "    \n",
    "    diff_arr = [x - max_time for x in bus_times]\n",
    "    \n",
    "    #print(i,\"-\",max_time)\n",
    "    #print(bus_times)\n",
    "    #print(diff_arr)\n",
    "    #print(\"\\n\")\n",
    "\n",
    "    if diff_arr == bus_diff : break\n",
    "    i += 1\n",
    "    \n",
    "    if i >= math.floor(1000000000000000 / max_bus) : break\n",
    "    if i % 5000000 == 0: print(i, \"-\", bus_times[0])\n",
    "    \n",
    "print(bus_times)\n",
    "print(bus_diff)\n",
    "print(diff_arr)\n"
   ]
  },
  {
   "cell_type": "code",
   "execution_count": null,
   "metadata": {},
   "outputs": [],
   "source": [
    "print(i)\n",
    "print(bus_times)\n",
    "print(bus_diff)\n",
    "print(diff_arr)"
   ]
  },
  {
   "cell_type": "code",
   "execution_count": null,
   "metadata": {},
   "outputs": [],
   "source": []
  }
 ],
 "metadata": {
  "kernelspec": {
   "display_name": "Python 3",
   "language": "python",
   "name": "python3"
  },
  "language_info": {
   "codemirror_mode": {
    "name": "ipython",
    "version": 3
   },
   "file_extension": ".py",
   "mimetype": "text/x-python",
   "name": "python",
   "nbconvert_exporter": "python",
   "pygments_lexer": "ipython3",
   "version": "3.8.3"
  }
 },
 "nbformat": 4,
 "nbformat_minor": 4
}
