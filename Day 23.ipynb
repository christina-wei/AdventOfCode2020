{
 "cells": [
  {
   "cell_type": "markdown",
   "metadata": {},
   "source": [
    "# Day 23\n",
    "https://adventofcode.com/2020/day/23"
   ]
  },
  {
   "cell_type": "code",
   "execution_count": 16,
   "metadata": {},
   "outputs": [
    {
     "name": "stdout",
     "output_type": "stream",
     "text": [
      "[4, 3, 5, 7, 9, 2, 8, 6, 1]\n",
      "43579286\n"
     ]
    }
   ],
   "source": [
    "# Part 1\n",
    "\n",
    "#batch = '389125467'\n",
    "batch = '685974213'\n",
    "batch = [int(x) for x in batch]\n",
    "\n",
    "cur_i = 0\n",
    "curr = batch[0]\n",
    "\n",
    "for i in range(100):\n",
    "        \n",
    "    #print(\"Move\", i+1, batch)\n",
    "    #print(\"Current cup\", curr)   \n",
    "       \n",
    "    pickup = (batch + batch)[cur_i+1:cur_i+4]\n",
    "    circle = [x for x in batch if x not in pickup] \n",
    "    label = 9 if batch[cur_i] == 1 else batch[cur_i] - 1\n",
    "\n",
    "    while label in pickup:\n",
    "        label = len(batch)-1 if label == 1 else label - 1\n",
    "\n",
    "    index = circle.index(label)\n",
    "    batch = circle[:index+1] + pickup + circle[index+1:]\n",
    "    \n",
    "    #update current cup\n",
    "    cur_i = (batch.index(curr) + 1) % 9\n",
    "    curr = batch[cur_i]\n",
    " \n",
    "    #print(\"Pickup:\", pickup)\n",
    "    #print(\"Circle:\", circle)\n",
    "    #print(\"Destination\", label, \"index\", batch.index(label))\n",
    "    #print(\"Next cup\", curr, \"index\", cur_i, \"\\n\")\n",
    "\n",
    "print(batch)\n",
    "one_i = batch.index(1)\n",
    "batch = [str(x) for x in (batch + batch)[one_i+1:one_i+9]]\n",
    "print(''.join(batch))"
   ]
  },
  {
   "cell_type": "code",
   "execution_count": 17,
   "metadata": {
    "scrolled": false
   },
   "outputs": [
    {
     "name": "stdout",
     "output_type": "stream",
     "text": [
      "157047826689\n"
     ]
    }
   ],
   "source": [
    "#Part 2 - linked list implentation\n",
    "\n",
    "#batch = '389125467'\n",
    "batch = '685974213'\n",
    "batch = [int(x) for x in batch]\n",
    "\n",
    "maxV = 1000000\n",
    "batch = batch + list(range(len(batch)+1, maxV+1))\n",
    "#print(len(batch))\n",
    "\n",
    "class Node:\n",
    "    def __init__(self, val, prev=None, next=None):\n",
    "        self.val = val\n",
    "        self.prev = prev\n",
    "        self.next = next\n",
    "    \n",
    "    def print(self):\n",
    "        print (self.val, \"prev\", self.prev, \"next\", self.next)\n",
    "\n",
    "\n",
    "linkedList = {}\n",
    "for i in range(maxV):\n",
    "    linkedList[batch[i]] = Node(batch[i], batch[(i-1) % (maxV)], batch[(i+1) % (maxV)])\n",
    "\n",
    "#for x in linkedList: linkedList[x].print()\n",
    "    \n",
    "loop = 10000000\n",
    "curr = linkedList[batch[0]]\n",
    "for i in range(loop):\n",
    "\n",
    "    #print('Round', i+1)\n",
    "    #tmp = curr.prev\n",
    "    #arr = []\n",
    "    #for i in range(len(linkedList)):\n",
    "    #    arr.append(linkedList[tmp].val)\n",
    "    #    tmp = linkedList[tmp].next\n",
    "    #print(arr)\n",
    "    \n",
    "    # Get the 3 cups\n",
    "    cup1 = linkedList[curr.next]\n",
    "    cup2 = linkedList[linkedList[cup1.val].next]\n",
    "    cup3 = linkedList[linkedList[cup2.val].next]\n",
    "    #print(\"Cups\")\n",
    "    #cup1.print()\n",
    "    #cup2.print()\n",
    "    #cup3.print()\n",
    "    \n",
    "    # Destination\n",
    "    dest = maxV if curr.val == 1 else curr.val - 1\n",
    "    while dest in [cup1.val, cup2.val, cup3.val]:\n",
    "        dest = maxV if dest == 1 else dest-1    \n",
    "    #print(\"Destination\", dest)\n",
    "        \n",
    "    #remove cups\n",
    "    #print(\"Remove cups\")\n",
    "    linkedList[cup1.prev] = Node(cup1.prev, linkedList[cup1.prev].prev, cup3.next)\n",
    "    #linkedList[cup1.prev].print()\n",
    "    linkedList[cup3.next] = Node(cup3.next, cup1.prev, linkedList[cup3.next].next)\n",
    "    #linkedList[cup3.next].print()\n",
    "    \n",
    "    #move items\n",
    "    #print(\"Move\")\n",
    "    dest = linkedList[dest]\n",
    "    linkedList[dest.val] = Node(dest.val, dest.prev, cup1.val)\n",
    "    #linkedList[dest.val].print()\n",
    "    linkedList[cup1.val] = Node(cup1.val, dest.val, cup1.next)\n",
    "    #linkedList[cup1.val].print()\n",
    "    linkedList[cup3.val] = Node(cup3.val, cup3.prev, dest.next)\n",
    "    #linkedList[cup3.val].print()\n",
    "    linkedList[dest.next] = Node(dest.next, cup3.val, linkedList[dest.next].next)\n",
    "    #linkedList[dest.next].print()\n",
    "    \n",
    "    #print(\"Updated linked list\")\n",
    "    #for x in linkedList: linkedList[x].print() #detailed linked list\n",
    "\n",
    "    # Update current\n",
    "    #print(\"Curr: \", curr.val)\n",
    "    #curr.print()\n",
    "    curr = linkedList[linkedList[curr.val].next]\n",
    "    \n",
    "    #print(\"Next\", curr.val)\n",
    "    #print('\\n')\n",
    "    \n",
    "    #if i % 500000 == 0: print(i)\n",
    "\n",
    "print(linkedList[1].next * linkedList[linkedList[1].next].next)"
   ]
  },
  {
   "cell_type": "code",
   "execution_count": null,
   "metadata": {},
   "outputs": [],
   "source": []
  }
 ],
 "metadata": {
  "kernelspec": {
   "display_name": "Python 3",
   "language": "python",
   "name": "python3"
  },
  "language_info": {
   "codemirror_mode": {
    "name": "ipython",
    "version": 3
   },
   "file_extension": ".py",
   "mimetype": "text/x-python",
   "name": "python",
   "nbconvert_exporter": "python",
   "pygments_lexer": "ipython3",
   "version": "3.8.3"
  }
 },
 "nbformat": 4,
 "nbformat_minor": 4
}
