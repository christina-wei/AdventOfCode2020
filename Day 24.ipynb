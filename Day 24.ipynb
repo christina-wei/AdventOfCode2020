{
 "cells": [
  {
   "cell_type": "markdown",
   "metadata": {},
   "source": [
    "# Day 24\n",
    "https://adventofcode.com/2020/day/24"
   ]
  },
  {
   "cell_type": "code",
   "execution_count": 15,
   "metadata": {},
   "outputs": [],
   "source": [
    "f=open(\"Day 24.txt\", \"r\")\n",
    "batch = f.read()\n",
    "\n",
    "#se, sw, nw, ne, e, w,\n",
    "batch = batch.split('\\n')\n",
    "\n",
    "directions = []\n",
    "for x in batch:\n",
    "    i = 0\n",
    "    tmp = []\n",
    "    while i < len(x):\n",
    "        v = 2 if x[i] in ['s', 'n'] else 1\n",
    "        tmp.append(x[i:i+v])\n",
    "        i = i + v\n",
    "    directions.append(tmp)\n",
    "\n",
    "movement = {'e':(-1,0), 'w':(1,0), 'se':(-0.5,-1), 'nw':(0.5,1), 'ne':(-0.5,1), 'sw':(0.5,-1)}\n",
    "\n",
    "#for i in range(len(batch)):\n",
    "#    print(batch[i])\n",
    "#    print(directions[i])"
   ]
  },
  {
   "cell_type": "code",
   "execution_count": 16,
   "metadata": {},
   "outputs": [
    {
     "name": "stdout",
     "output_type": "stream",
     "text": [
      "424\n"
     ]
    }
   ],
   "source": [
    "#Part 1\n",
    "tiles = dict()\n",
    "for line in directions:\n",
    "    coord = (0, 0)\n",
    "    for d in line: coord = tuple([x+y for x,y in zip(coord, movement[d])])\n",
    "        \n",
    "    if coord in tiles:\n",
    "        tiles[coord] += 1\n",
    "    else:\n",
    "        tiles[coord] = 1\n",
    "\n",
    "#print(tiles)\n",
    "\n",
    "black = set([x for x in tiles if tiles[x] % 2 == 1])\n",
    "print(len(black))\n",
    "#print(black)"
   ]
  },
  {
   "cell_type": "code",
   "execution_count": 17,
   "metadata": {},
   "outputs": [
    {
     "name": "stdout",
     "output_type": "stream",
     "text": [
      "3737\n"
     ]
    }
   ],
   "source": [
    "#Part 2\n",
    "\n",
    "for loop in range(100):\n",
    "\n",
    "    X = (min([x for x, y in black])-1, max([x for x, y in black])+1)\n",
    "    Y = (min([y for x, y in black])-2, max([y for x, y in black])+2)\n",
    "    #print(X,Y)\n",
    "    \n",
    "    flip_white = set()\n",
    "    flip_black = set()\n",
    "\n",
    "    for x in [i * 0.5 for i in range(int(X[0])*2, int(X[1]*2+1))]:\n",
    "        for y in range(Y[0], Y[1]+1):\n",
    "\n",
    "            #print(x,y)\n",
    "\n",
    "            adj = set([(x + movement[m][0], y + movement[m][1]) for m in movement])\n",
    "            adj_black = len(adj.intersection(black))\n",
    "            #print(\"adj\", adj)\n",
    "\n",
    "            if (x,y) in black:\n",
    "                if adj_black == 0 or adj_black > 2:\n",
    "                    #print (\"black to white\", (x,y), adj_black)\n",
    "                    flip_white.add((x,y))\n",
    "            else:\n",
    "                if adj_black == 2:\n",
    "                    #print (\"white to black\", (x,y), adj_black)\n",
    "                    flip_black.add((x,y))\n",
    "\n",
    "    #print(flip_white)\n",
    "    #print(flip_black)\n",
    "\n",
    "    black = black - flip_white\n",
    "    black = black.union(flip_black)\n",
    "\n",
    "    #print(black)\n",
    "    #print(loop+1,len(black))\n",
    "\n",
    "print(len(black))"
   ]
  },
  {
   "cell_type": "code",
   "execution_count": null,
   "metadata": {},
   "outputs": [],
   "source": []
  }
 ],
 "metadata": {
  "kernelspec": {
   "display_name": "Python 3",
   "language": "python",
   "name": "python3"
  },
  "language_info": {
   "codemirror_mode": {
    "name": "ipython",
    "version": 3
   },
   "file_extension": ".py",
   "mimetype": "text/x-python",
   "name": "python",
   "nbconvert_exporter": "python",
   "pygments_lexer": "ipython3",
   "version": "3.8.3"
  }
 },
 "nbformat": 4,
 "nbformat_minor": 4
}
