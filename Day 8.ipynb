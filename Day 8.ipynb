{
 "cells": [
  {
   "cell_type": "markdown",
   "metadata": {},
   "source": [
    "## Day 8\n",
    "https://adventofcode.com/2020/day/8"
   ]
  },
  {
   "cell_type": "code",
   "execution_count": 87,
   "metadata": {},
   "outputs": [],
   "source": [
    "#Day 8 - Data parsing\n",
    "f=open(\"Day 8.txt\", \"r\")\n",
    "batch = f.read().split('\\n') #Split by two new lines\n",
    "batch = [x.split(' ') for x in batch] #replace all newline characters"
   ]
  },
  {
   "cell_type": "code",
   "execution_count": 88,
   "metadata": {},
   "outputs": [],
   "source": [
    "#Part 1\n",
    "def checkInfiniteLoop(arr):\n",
    "\n",
    "    code_set1 = set()\n",
    "\n",
    "    total = 0\n",
    "    index = 0\n",
    "    isInfinite = False\n",
    "\n",
    "    while index < len(arr):\n",
    "\n",
    "        instr = arr[index][0]\n",
    "        value = int(arr[index][1])\n",
    "\n",
    "        if index in code_set1:\n",
    "            isInfinite = True\n",
    "            break\n",
    "        else:\n",
    "            code_set1.add(index)\n",
    "\n",
    "        if instr == 'nop':\n",
    "            index += 1\n",
    "        elif instr == 'acc':\n",
    "            index += 1\n",
    "            total += value\n",
    "        elif instr == 'jmp':\n",
    "            index += value\n",
    "\n",
    "    return (isInfinite, total)"
   ]
  },
  {
   "cell_type": "code",
   "execution_count": 89,
   "metadata": {},
   "outputs": [
    {
     "name": "stdout",
     "output_type": "stream",
     "text": [
      "(True, 1384)\n"
     ]
    }
   ],
   "source": [
    "print(checkInfiniteLoop(batch))"
   ]
  },
  {
   "cell_type": "code",
   "execution_count": 90,
   "metadata": {},
   "outputs": [],
   "source": [
    "def Cloning(li): \n",
    "    li_copy = li[:] \n",
    "    return li_copy "
   ]
  },
  {
   "cell_type": "code",
   "execution_count": 91,
   "metadata": {},
   "outputs": [
    {
     "name": "stdout",
     "output_type": "stream",
     "text": [
      "761\n"
     ]
    }
   ],
   "source": [
    "#Part 2\n",
    "import copy\n",
    "\n",
    "total = 0\n",
    "\n",
    "for i in range(len(batch)):\n",
    "    \n",
    "    batch_new = copy.deepcopy(batch)\n",
    "    #print(\"Orig\", batch)\n",
    "    \n",
    "    instr = batch[i][0]\n",
    "    value = int(batch[i][1])\n",
    "    #print(instr, value)\n",
    "    \n",
    "    if instr == 'jmp':\n",
    "        batch_new[i][0] = 'nop'\n",
    "        #print(\"change jmp to nop\")\n",
    "    elif instr == 'nop':\n",
    "        batch_new[i][0] = 'jmp'\n",
    "        #print(\"change nop to jmp\")\n",
    "    else:\n",
    "        continue\n",
    "    \n",
    "    #print(\"After\", batch_new)\n",
    "    \n",
    "    (isInfinite, total) = checkInfiniteLoop(batch_new)\n",
    "    #print(isInfinite, total)\n",
    "    \n",
    "    if not isInfinite: break\n",
    "\n",
    "print(total)"
   ]
  },
  {
   "cell_type": "code",
   "execution_count": null,
   "metadata": {},
   "outputs": [],
   "source": []
  }
 ],
 "metadata": {
  "kernelspec": {
   "display_name": "Python 3",
   "language": "python",
   "name": "python3"
  },
  "language_info": {
   "codemirror_mode": {
    "name": "ipython",
    "version": 3
   },
   "file_extension": ".py",
   "mimetype": "text/x-python",
   "name": "python",
   "nbconvert_exporter": "python",
   "pygments_lexer": "ipython3",
   "version": "3.8.3"
  }
 },
 "nbformat": 4,
 "nbformat_minor": 4
}
