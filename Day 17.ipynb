{
 "cells": [
  {
   "cell_type": "markdown",
   "metadata": {},
   "source": [
    "# Day 17\n",
    "https://adventofcode.com/2020/day/17"
   ]
  },
  {
   "cell_type": "code",
   "execution_count": 106,
   "metadata": {},
   "outputs": [
    {
     "name": "stdout",
     "output_type": "stream",
     "text": [
      "8 ['.##..#.#', '##.#...#', '##.#.##.', '..#..###', '####.#..', '...##..#', '#.#####.', '#.#.##.#']\n"
     ]
    }
   ],
   "source": [
    "#Sample\n",
    "batch = '''.#.\n",
    "..#\n",
    "###'''\n",
    "\n",
    "#Actual input\n",
    "batch = '''.##..#.#\n",
    "##.#...#\n",
    "##.#.##.\n",
    "..#..###\n",
    "####.#..\n",
    "...##..#\n",
    "#.#####.\n",
    "#.#.##.#'''\n",
    "\n",
    "batch = batch.split('\\n')\n",
    "dim = len(batch)\n",
    "print(dim, batch)\n",
    "\n",
    "def printSlice(active, XY, zz):\n",
    "\n",
    "    slice = [(x,y) for x,y,z in active if zz == z]\n",
    "    \n",
    "    print(\"z = \",zz)\n",
    "    \n",
    "    for x in range(XY[0], XY[1]):\n",
    "        value = ''\n",
    "        for y in range(XY[0], XY[1]):\n",
    "            value = value+('#' if (x,y) in slice else '.')\n",
    "        print(value)\n",
    "    \n",
    "    #print(\"\\n\")"
   ]
  },
  {
   "cell_type": "code",
   "execution_count": 100,
   "metadata": {},
   "outputs": [
    {
     "name": "stdout",
     "output_type": "stream",
     "text": [
      "368\n"
     ]
    }
   ],
   "source": [
    "# Part 1\n",
    "\n",
    "#print(\"Input\")\n",
    "#printSlice(active, (0,3), 0)\n",
    "\n",
    "#Initial: z = 0\n",
    "active = set()\n",
    "for x, x_v in enumerate(batch):\n",
    "    for y, y_v in enumerate(x_v):\n",
    "        if y_v == '#': active.add((x,y,0)) \n",
    "\n",
    "delta = []\n",
    "for x in range(-1,2,1):\n",
    "    for y in range(-1,2,1):\n",
    "        for z in range(-1,2,1):\n",
    "            delta.append((x,y,z))\n",
    "delta.remove((0,0,0))    \n",
    "\n",
    "#print(active)\n",
    "#print(len(delta), delta)\n",
    "\n",
    "\n",
    "loop = 6\n",
    "\n",
    "for l in range(1,loop+1):\n",
    "\n",
    "    #print(\"\\nRound\",l)\n",
    "    \n",
    "    XY = (0-l, dim+l)\n",
    "    Z = (-l, l+1)\n",
    "\n",
    "    flip_active = set()\n",
    "    flip_inactive = set()\n",
    "    for x in range(XY[0], XY[1]):\n",
    "        for y in range(XY[0], XY[1]):\n",
    "            for z in range(Z[0], Z[1]):\n",
    "\n",
    "                neighbors = set([(d1+x, d2+y, d3+z) for d1, d2, d3 in delta])\n",
    "                num_actives = len(neighbors.intersection(active))\n",
    "\n",
    "                #If a cube is active and exactly 2 or 3 of its neighbors are also active, the cube remains active,\n",
    "                #Otherwise, the cube becomes inactive.\n",
    "                if (x,y,z) in active and num_actives not in [2, 3]: flip_inactive.add((x,y,z))\n",
    "\n",
    "                #If a cube is inactive but exactly 3 of its neighbors are active, the cube becomes active. \n",
    "                #Otherwise, the cube remains inactive.\n",
    "                if (x,y,z) not in active and num_actives == 3: flip_active.add((x,y,z))   \n",
    "\n",
    "                #print((x,y,z), num_actives)\n",
    "\n",
    "    active = active - flip_inactive\n",
    "    active = active.union(flip_active)\n",
    "\n",
    "    #for z in range(Z[0], Z[1]): printSlice(active, XY, z)\n",
    "\n",
    "print(len(active))"
   ]
  },
  {
   "cell_type": "code",
   "execution_count": 107,
   "metadata": {},
   "outputs": [
    {
     "name": "stdout",
     "output_type": "stream",
     "text": [
      "2696\n"
     ]
    }
   ],
   "source": [
    "# Part 2\n",
    "\n",
    "#print(\"Input\")\n",
    "#printSlice(active, (0,3), 0)\n",
    "\n",
    "#Initial: z = 0, w = 0\n",
    "active = set()\n",
    "for x, x_v in enumerate(batch):\n",
    "    for y, y_v in enumerate(x_v):\n",
    "        if y_v == '#': active.add((x,y,0, 0)) \n",
    "\n",
    "delta = []\n",
    "for x in range(-1,2,1):\n",
    "    for y in range(-1,2,1):\n",
    "        for z in range(-1,2,1):\n",
    "            for w in range(-1,2,1):\n",
    "                delta.append((x,y,z,w))\n",
    "delta.remove((0,0,0,0))    \n",
    "\n",
    "#print(active)\n",
    "#print(len(delta))\n",
    "\n",
    "\n",
    "loop = 6\n",
    "\n",
    "for l in range(1,loop+1):\n",
    "\n",
    "    #print(\"\\nRound\",l)\n",
    "    \n",
    "    XY = (0-l, dim+l)\n",
    "    ZW = (-l, l+1)\n",
    "\n",
    "    flip_active = set()\n",
    "    flip_inactive = set()\n",
    "    for x in range(XY[0], XY[1]):\n",
    "        for y in range(XY[0], XY[1]):\n",
    "            for z in range(ZW[0], ZW[1]):\n",
    "                for w in range(ZW[0], ZW[1]):\n",
    "\n",
    "                    neighbors = set([(d1+x, d2+y, d3+z, d4+w) for d1, d2, d3, d4 in delta])\n",
    "                    num_actives = len(neighbors.intersection(active))\n",
    "\n",
    "                    #If a cube is active and exactly 2 or 3 of its neighbors are also active, the cube remains active,\n",
    "                    #Otherwise, the cube becomes inactive.\n",
    "                    if (x,y,z,w) in active and num_actives not in [2, 3]: flip_inactive.add((x,y,z,w))\n",
    "\n",
    "                    #If a cube is inactive but exactly 3 of its neighbors are active, the cube becomes active. \n",
    "                    #Otherwise, the cube remains inactive.\n",
    "                    if (x,y,z,w) not in active and num_actives == 3: flip_active.add((x,y,z,w))   \n",
    "\n",
    "                    #print((x,y,z), num_actives)\n",
    "\n",
    "    active = active - flip_inactive\n",
    "    active = active.union(flip_active)\n",
    "\n",
    "    #for z in range(Z[0], Z[1]): printSlice(active, XY, z)\n",
    "\n",
    "print(len(active))"
   ]
  },
  {
   "cell_type": "code",
   "execution_count": null,
   "metadata": {},
   "outputs": [],
   "source": []
  }
 ],
 "metadata": {
  "kernelspec": {
   "display_name": "Python 3",
   "language": "python",
   "name": "python3"
  },
  "language_info": {
   "codemirror_mode": {
    "name": "ipython",
    "version": 3
   },
   "file_extension": ".py",
   "mimetype": "text/x-python",
   "name": "python",
   "nbconvert_exporter": "python",
   "pygments_lexer": "ipython3",
   "version": "3.8.3"
  }
 },
 "nbformat": 4,
 "nbformat_minor": 4
}
