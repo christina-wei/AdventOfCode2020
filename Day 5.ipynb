{
 "cells": [
  {
   "cell_type": "markdown",
   "metadata": {},
   "source": [
    "## Day 5\n",
    "https://adventofcode.com/2020/day/5"
   ]
  },
  {
   "cell_type": "code",
   "execution_count": 3,
   "metadata": {},
   "outputs": [],
   "source": [
    "f=open(\"Day5.txt\", \"r\")"
   ]
  },
  {
   "cell_type": "code",
   "execution_count": 5,
   "metadata": {},
   "outputs": [
    {
     "name": "stdout",
     "output_type": "stream",
     "text": [
      "915\n"
     ]
    }
   ],
   "source": [
    "#Day 5 - Part 1\n",
    "\n",
    "def half(arr, bfrl):\n",
    "    mid = int((arr[1] - arr[0] + 1) / 2)\n",
    "    if bfrl == \"F\" or bfrl == \"L\":\n",
    "        return [arr[0], arr[0] + mid - 1]\n",
    "    else:\n",
    "        return [arr[0] + mid, arr[1]]\n",
    "\n",
    "f=open(\"Day5.txt\", \"r\")\n",
    "\n",
    "seat_id_list = []\n",
    "\n",
    "for item in f:\n",
    "    row_range = [0, 127]\n",
    "    col_range = [0, 7]\n",
    "    item = item.strip()\n",
    "    \n",
    "    for c in item[:7]:\n",
    "        row_range = half(row_range, c)\n",
    "        #print(row_range)\n",
    "    \n",
    "    for c in item[-3:]:\n",
    "        col_range = half(col_range, c) \n",
    "        #print(col_range)\n",
    "\n",
    "    seat_id_list.append(row_range[0] * 8 + col_range[0])\n",
    "\n",
    "print(max(seat_id_list))\n",
    "\n"
   ]
  },
  {
   "cell_type": "code",
   "execution_count": 6,
   "metadata": {},
   "outputs": [
    {
     "name": "stdout",
     "output_type": "stream",
     "text": [
      "699\n"
     ]
    }
   ],
   "source": [
    "#Day 5 - Part 2\n",
    "\n",
    "seat_id_list.sort()\n",
    "\n",
    "for i in range(len(seat_id_list)-1):\n",
    "    if seat_id_list[i+1] - seat_id_list[i] > 1:\n",
    "        print(seat_id_list[i]+1)\n",
    "        break\n"
   ]
  },
  {
   "cell_type": "code",
   "execution_count": 7,
   "metadata": {},
   "outputs": [],
   "source": [
    "f.close()"
   ]
  },
  {
   "cell_type": "code",
   "execution_count": null,
   "metadata": {},
   "outputs": [],
   "source": []
  }
 ],
 "metadata": {
  "kernelspec": {
   "display_name": "Python 3",
   "language": "python",
   "name": "python3"
  },
  "language_info": {
   "codemirror_mode": {
    "name": "ipython",
    "version": 3
   },
   "file_extension": ".py",
   "mimetype": "text/x-python",
   "name": "python",
   "nbconvert_exporter": "python",
   "pygments_lexer": "ipython3",
   "version": "3.8.3"
  }
 },
 "nbformat": 4,
 "nbformat_minor": 4
}
