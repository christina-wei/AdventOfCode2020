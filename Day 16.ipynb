{
 "cells": [
  {
   "cell_type": "markdown",
   "metadata": {},
   "source": [
    "# Day 16\n",
    "https://adventofcode.com/2020/day/16"
   ]
  },
  {
   "cell_type": "code",
   "execution_count": 362,
   "metadata": {},
   "outputs": [],
   "source": [
    "f=open(\"Day 16.txt\", \"r\")\n",
    "batch = f.read()\n",
    "\n",
    "batch = batch.split('\\n\\n') #Split by new lines\n",
    "batch = [x.split('\\n') for x in batch]\n",
    "\n",
    "rules = [x.split(': ') for x in batch[0]]\n",
    "rules = [[x[0], x[1].split(' or ')] for x in rules]\n",
    "\n",
    "rules_dict = dict()\n",
    "for x in rules:\n",
    "    r = [y.split('-') for y in x[1]]\n",
    "    tmp = set(range(int(r[0][0]),int(r[0][1])+1))\n",
    "    tmp.update(set(range(int(r[1][0]),int(r[1][1])+1)))\n",
    "    rules_dict[x[0]] = tmp    \n",
    "\n",
    "#for x in rules_dict:\n",
    "#    y = rules_dict[x][0]\n",
    "#    #print(rules_dict[x][0], rules_dict[x][1]) \n",
    "#    tmp = set(range(int(y[0]),int(y[1])+1))\n",
    "#    y = rules_dict[x][1]\n",
    "#    tmp.update(set(range(int(y[0]),int(y[1])+1)))\n",
    "#    rules_dict[x] = tmp\n",
    "    \n",
    "#print(rules_dict)\n",
    "\n",
    "ticket = batch[1]\n",
    "ticket = ticket[1].split(',')\n",
    "ticket = [int(x) for x in ticket]\n",
    "\n",
    "nearby = [x.split(',') for x in batch[2][1:]]\n",
    "nearby = [[int(x) for x in y] for y in nearby]\n",
    "\n",
    "#print(rules)\n",
    "#print(nearby)"
   ]
  },
  {
   "cell_type": "code",
   "execution_count": 363,
   "metadata": {},
   "outputs": [
    {
     "name": "stdout",
     "output_type": "stream",
     "text": [
      "25916\n"
     ]
    }
   ],
   "source": [
    "#Part 1\n",
    "\n",
    "rule_set = set()\n",
    "valid_tickets = []\n",
    "\n",
    "#super set of all rules\n",
    "for x in rules_dict:\n",
    "    rule_set.update(rules_dict[x])\n",
    "\n",
    "#print(rule_set)\n",
    "\n",
    "for x in nearby:\n",
    "    if len(set(x) - (rule_set)) == 0: valid_tickets.append(x)\n",
    "    \n",
    "flat_list = [item for sublist in nearby for item in sublist]\n",
    "print(sum([x for x in flat_list if x not in rule_set]))"
   ]
  },
  {
   "cell_type": "code",
   "execution_count": 364,
   "metadata": {
    "scrolled": true
   },
   "outputs": [
    {
     "name": "stdout",
     "output_type": "stream",
     "text": [
      "2564529489989\n"
     ]
    }
   ],
   "source": [
    "#Part 2\n",
    "\n",
    "key_dict = dict()\n",
    "col_dict = dict()\n",
    "\n",
    "#print(len(valid_tickets))\n",
    "\n",
    "for k in rules_dict:\n",
    "    for i in range(len(valid_tickets[0])):\n",
    "        col = set([x[i] for x in valid_tickets])\n",
    "        if len(col - rules_dict[k]) == 0:\n",
    "            if k in key_dict:\n",
    "                key_dict[k].append(i)\n",
    "            else:\n",
    "                key_dict[k] = [i]      \n",
    "        \n",
    "#print(key_dict)\n",
    "\n",
    "for i in range(len(valid_tickets[0])):\n",
    "    col_set = set([k for k in col_dict])\n",
    "    for k in key_dict:\n",
    "        #print(\"round\",i,k, key_dict[k],set(key_dict[k]) - col_set)\n",
    "        if len(set(key_dict[k]) - col_set) == 1:\n",
    "            v = list(set(key_dict[k]) - col_set)[0]\n",
    "            col_dict[v] = k\n",
    "            #print(v, k)\n",
    "            break\n",
    "\n",
    "#print(col_dict)\n",
    "\n",
    "total = 1\n",
    "for k in col_dict:\n",
    "    if \"departure\" in col_dict[k]:\n",
    "        #print(col_dict[k], k, ticket[k])\n",
    "        total = total * ticket[k]\n",
    "\n",
    "#print(ticket)\n",
    "print(total)\n",
    "\n",
    "#print(len(col_dict), len(ticket))"
   ]
  },
  {
   "cell_type": "code",
   "execution_count": null,
   "metadata": {},
   "outputs": [],
   "source": []
  }
 ],
 "metadata": {
  "kernelspec": {
   "display_name": "Python 3",
   "language": "python",
   "name": "python3"
  },
  "language_info": {
   "codemirror_mode": {
    "name": "ipython",
    "version": 3
   },
   "file_extension": ".py",
   "mimetype": "text/x-python",
   "name": "python",
   "nbconvert_exporter": "python",
   "pygments_lexer": "ipython3",
   "version": "3.8.3"
  }
 },
 "nbformat": 4,
 "nbformat_minor": 4
}
