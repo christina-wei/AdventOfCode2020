{
 "cells": [
  {
   "cell_type": "markdown",
   "metadata": {},
   "source": [
    "## Day 11\n",
    "https://adventofcode.com/2020/day/11"
   ]
  },
  {
   "cell_type": "code",
   "execution_count": 115,
   "metadata": {},
   "outputs": [
    {
     "name": "stdout",
     "output_type": "stream",
     "text": [
      "92 X 95\n"
     ]
    }
   ],
   "source": [
    "import copy\n",
    "\n",
    "f=open(\"Day 11.txt\", \"r\")\n",
    "batch = f.read().split('\\n') #Split by new lines\n",
    "batch = [list(x) for x in batch] #convert string to list\n",
    "\n",
    "print(len(batch),\"X\",len(batch[0]))"
   ]
  },
  {
   "cell_type": "code",
   "execution_count": 9,
   "metadata": {},
   "outputs": [],
   "source": [
    "def flatten(arr):\n",
    "    return [item for sublist in arr for item in sublist]"
   ]
  },
  {
   "cell_type": "code",
   "execution_count": 10,
   "metadata": {},
   "outputs": [],
   "source": [
    "def print_arr(arr):\n",
    "    for row in arr:\n",
    "        print(''.join(map(str, row)))"
   ]
  },
  {
   "cell_type": "markdown",
   "metadata": {},
   "source": [
    "## Part 1"
   ]
  },
  {
   "cell_type": "code",
   "execution_count": 11,
   "metadata": {},
   "outputs": [],
   "source": [
    "def adj_occupied(arr, r, c):\n",
    "    adj_sq = []\n",
    "\n",
    "    for row in arr[max(r-1,0):min(r+2,len(arr))]:\n",
    "        adj_sq.append(row[max(c-1,0):min(c+2,len(arr[0]))])\n",
    "    \n",
    "    return flatten(adj_sq).count('#')"
   ]
  },
  {
   "cell_type": "code",
   "execution_count": 12,
   "metadata": {},
   "outputs": [],
   "source": [
    "def seatPattern(arr):\n",
    "    \n",
    "    new_seats = copy.deepcopy(arr)\n",
    "    \n",
    "    for r in range(len(arr)):\n",
    "        for c in range(len(arr[0])):\n",
    "            \n",
    "            #Rule 1 - If a seat is empty (L) and there are no occupied seats adjacent to it, the seat becomes occupied.\n",
    "            if arr[r][c] == \"L\":\n",
    "                #print(\"L\", adj_sq.count('L'))\n",
    "                if adj_occupied(arr,r,c) == 0 : new_seats[r][c] = \"#\"\n",
    "\n",
    "            #Rule 2 - If a seat is occupied (#) and four or more seats adjacent to it are also occupied, the seat becomes empty.\n",
    "            elif arr[r][c] == \"#\":\n",
    "                #print(r,c,\"#\",adj_sq, adj_sq.count('#'))\n",
    "                if adj_occupied(arr,r,c) >= 5: new_seats[r][c] = \"L\"\n",
    "                \n",
    "    return new_seats"
   ]
  },
  {
   "cell_type": "code",
   "execution_count": 13,
   "metadata": {
    "scrolled": true
   },
   "outputs": [
    {
     "name": "stdout",
     "output_type": "stream",
     "text": [
      "37\n"
     ]
    }
   ],
   "source": [
    "#Putting everything together\n",
    "\n",
    "new_seats = batch\n",
    "prev_seats = []\n",
    "i = 0\n",
    "\n",
    "while new_seats != prev_seats:\n",
    "    i += 1\n",
    "    prev_seats = new_seats\n",
    "    new_seats = seatPattern(prev_seats)\n",
    "    #print(i,flatten(new_seats).count('#'))\n",
    "    #print_arr(new_seats)\n",
    "\n",
    "print(flatten(new_seats).count('#'))"
   ]
  },
  {
   "cell_type": "markdown",
   "metadata": {},
   "source": [
    "## Part 2"
   ]
  },
  {
   "cell_type": "code",
   "execution_count": 117,
   "metadata": {},
   "outputs": [],
   "source": [
    "#To refactor later\n",
    "\n",
    "def adj_occupied2(arr, r, c):\n",
    "    \n",
    "    count = 0\n",
    "    \n",
    "    #left\n",
    "    left = arr[r][:c]\n",
    "    for i in range(len(left)-1,-1,-1):\n",
    "        ele = left[i]\n",
    "        if ele == '.':\n",
    "            continue\n",
    "        else:\n",
    "            count += int(ele == '#')\n",
    "            break\n",
    "    #print(left)\n",
    "    #print(\"left\", count)\n",
    "    \n",
    "    #right\n",
    "    right = arr[r][c+1:]\n",
    "    for i in range(len(right)):\n",
    "        ele = right[i]\n",
    "        if ele == '.': continue\n",
    "        count += int(ele == '#')\n",
    "        break\n",
    "    #print(\"right\", count)\n",
    "    \n",
    "    #up\n",
    "    up = [x[c] for x in arr[:r]]\n",
    "    for i in range(len(up)-1,-1,-1):\n",
    "        ele = up[i]\n",
    "        if ele == '.': continue\n",
    "        count += int(ele == '#')\n",
    "        break\n",
    "    #print(\"up\", count)\n",
    "      \n",
    "    #down\n",
    "    down = [x[c] for x in arr[r+1:]]\n",
    "    for i in range(len(down)):\n",
    "        ele = down[i]\n",
    "        if ele == '.': continue\n",
    "        count += int(ele == '#')\n",
    "        break\n",
    "    #print(\"down\", count)\n",
    "        \n",
    "    #upper left diagnoal\n",
    "    ul = [x[:c] for x in arr[:r]]\n",
    "    h = len(ul)\n",
    "    w = 0 if h == 0 else len(ul[0])\n",
    "    l = min(h,w)\n",
    "    for i in range(l):\n",
    "        ele = ul[h-i-1][w-i-1]\n",
    "        if ele == '.': continue\n",
    "        count += int(ele == '#')\n",
    "        break\n",
    "    #print(\"ul\",count)\n",
    "    \n",
    "    #lower right diagonal\n",
    "    lr = [x[c+1:] for x in arr[r+1:]]\n",
    "    h = len(lr)\n",
    "    w = 0 if h == 0 else len(lr[0])\n",
    "    l = min(h,w)\n",
    "    for i in range(l):\n",
    "        ele = lr[i][i]\n",
    "        if ele == '.': continue\n",
    "        count += int(ele == '#')\n",
    "        break\n",
    "    #print(\"lr\",count)\n",
    "    \n",
    "    #upper right diagnoal\n",
    "    ur = [x[c+1:] for x in arr[:r]]\n",
    "    h = len(ur)\n",
    "    w = 0 if h == 0 else len(ur[0])\n",
    "    l = min(h,w)\n",
    "    for i in range(l):\n",
    "        ele = ur[h-i-1][i]\n",
    "        if ele == '.': continue\n",
    "        count += int(ele == '#')\n",
    "        break\n",
    "    #print(\"ur\",count)\n",
    "    \n",
    "    #lower left diagonal\n",
    "    ll = [x[:c] for x in arr[r+1:]]\n",
    "    h = len(ll)\n",
    "    w = 0 if h == 0 else len(ll[0])\n",
    "    l = min(h,w)\n",
    "    for i in range(l):\n",
    "        ele = ll[i][w-i-1]\n",
    "        if ele == '.': continue\n",
    "        count += int(ele == '#')\n",
    "        break\n",
    "    #print(\"ll\",count)\n",
    "    \n",
    "    return count"
   ]
  },
  {
   "cell_type": "code",
   "execution_count": 112,
   "metadata": {},
   "outputs": [],
   "source": [
    "def seatPattern2(arr):\n",
    "    \n",
    "    new_seats = copy.deepcopy(arr)\n",
    "    \n",
    "    for r in range(len(arr)):\n",
    "        for c in range(len(arr[0])):\n",
    "            \n",
    "            #Rule 1 - If a seat is empty (L) and there are no occupied seats adjacent to it, the seat becomes occupied.\n",
    "            if arr[r][c] == \"L\":\n",
    "                if adj_occupied2(arr,r,c) == 0 : new_seats[r][c] = \"#\"\n",
    "\n",
    "            #Rule 2 - If a seat is occupied (#) and five or more seats adjacent to it are also occupied, the seat becomes empty.\n",
    "            elif arr[r][c] == \"#\":\n",
    "                if adj_occupied2(arr,r,c) >= 5: new_seats[r][c] = \"L\"\n",
    "                \n",
    "    return new_seats"
   ]
  },
  {
   "cell_type": "code",
   "execution_count": 118,
   "metadata": {},
   "outputs": [
    {
     "name": "stdout",
     "output_type": "stream",
     "text": [
      "2013\n"
     ]
    }
   ],
   "source": [
    "new_seats = batch\n",
    "prev_seats = []\n",
    "i = 0\n",
    "\n",
    "while new_seats != prev_seats:\n",
    "    i += 1\n",
    "    prev_seats = new_seats\n",
    "    new_seats = seatPattern2(prev_seats)\n",
    "    #print(i,flatten(new_seats).count('#'))\n",
    "    #print_arr(new_seats)\n",
    "\n",
    "print(flatten(new_seats).count('#'))"
   ]
  },
  {
   "cell_type": "code",
   "execution_count": 110,
   "metadata": {},
   "outputs": [
    {
     "name": "stdout",
     "output_type": "stream",
     "text": [
      "down 0\n",
      "0\n"
     ]
    }
   ],
   "source": [
    "#TESTING GROUND\n",
    "\n",
    "#1\n",
    "test = '''#.##.##.##\n",
    "#######.##\n",
    "#.#.#..#..\n",
    "####.##.##\n",
    "#.##.##.##\n",
    "#.#####.##\n",
    "..#.#.....\n",
    "##########\n",
    "#.######.#\n",
    "#.#####.##'''\n",
    "\n",
    "#2\n",
    "test = \"\"\"#.LL.LL.L#\n",
    "#LLLLLL.LL\n",
    "L.L.L..L..\n",
    "LLLL.LL.LL\n",
    "L.LL.LL.LL\n",
    "L.LLLLL.LL\n",
    "..L.L.....\n",
    "LLLLLLLLL#\n",
    "#.LLLLLL.L\n",
    "#.LLLLL.L#\"\"\"\n",
    "test = test.split('\\n') #Split by new lines\n",
    "test = [list(x) for x in test] #convert string to list\n",
    "\n",
    "print(adj_occupied2(test, 0, 4))"
   ]
  },
  {
   "cell_type": "code",
   "execution_count": null,
   "metadata": {},
   "outputs": [],
   "source": []
  }
 ],
 "metadata": {
  "kernelspec": {
   "display_name": "Python 3",
   "language": "python",
   "name": "python3"
  },
  "language_info": {
   "codemirror_mode": {
    "name": "ipython",
    "version": 3
   },
   "file_extension": ".py",
   "mimetype": "text/x-python",
   "name": "python",
   "nbconvert_exporter": "python",
   "pygments_lexer": "ipython3",
   "version": "3.8.3"
  }
 },
 "nbformat": 4,
 "nbformat_minor": 4
}
