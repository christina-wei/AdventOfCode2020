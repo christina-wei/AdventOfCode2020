{
 "cells": [
  {
   "cell_type": "markdown",
   "metadata": {},
   "source": [
    "# Day 25\n",
    "https://adventofcode.com/2020/day/25"
   ]
  },
  {
   "cell_type": "code",
   "execution_count": 22,
   "metadata": {},
   "outputs": [],
   "source": [
    "def loopSize(public_key):\n",
    "    subject = 7\n",
    "    mod = 20201227\n",
    "    \n",
    "    loop = 0\n",
    "    value = 1\n",
    "\n",
    "    while True:\n",
    "        loop += 1\n",
    "        value *= subject\n",
    "        value = value % mod\n",
    "        #print(loop, value)\n",
    "        if value == public_key: break\n",
    "    \n",
    "    return loop"
   ]
  },
  {
   "cell_type": "code",
   "execution_count": 31,
   "metadata": {},
   "outputs": [],
   "source": [
    "def key(subject, loop):\n",
    "    \n",
    "    value = 1\n",
    "    for i in range(loop):\n",
    "        value *= subject\n",
    "        value = value % mod\n",
    "\n",
    "    return value"
   ]
  },
  {
   "cell_type": "code",
   "execution_count": 36,
   "metadata": {},
   "outputs": [
    {
     "name": "stdout",
     "output_type": "stream",
     "text": [
      "18608573\n"
     ]
    }
   ],
   "source": [
    "#Part 1\n",
    "card_public = 14012298\n",
    "door_public = 74241\n",
    "\n",
    "card_loop = loopSize(card_public)\n",
    "door_loop = loopSize(door_public)\n",
    "\n",
    "#print(card_public, card_loop)\n",
    "#print(door_public, door_loop)\n",
    "print(key(door_public, card_loop))"
   ]
  },
  {
   "cell_type": "code",
   "execution_count": null,
   "metadata": {},
   "outputs": [],
   "source": []
  }
 ],
 "metadata": {
  "kernelspec": {
   "display_name": "Python 3",
   "language": "python",
   "name": "python3"
  },
  "language_info": {
   "codemirror_mode": {
    "name": "ipython",
    "version": 3
   },
   "file_extension": ".py",
   "mimetype": "text/x-python",
   "name": "python",
   "nbconvert_exporter": "python",
   "pygments_lexer": "ipython3",
   "version": "3.8.3"
  }
 },
 "nbformat": 4,
 "nbformat_minor": 4
}
