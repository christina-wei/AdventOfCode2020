{
 "cells": [
  {
   "cell_type": "markdown",
   "metadata": {},
   "source": [
    "# Day 18\n",
    "https://adventofcode.com/2020/day/18"
   ]
  },
  {
   "cell_type": "code",
   "execution_count": 54,
   "metadata": {},
   "outputs": [],
   "source": [
    "f = open(\"Day 18.txt\", \"r\")\n",
    "batch = f.read().split('\\n') #Split by new lines"
   ]
  },
  {
   "cell_type": "code",
   "execution_count": 2,
   "metadata": {},
   "outputs": [],
   "source": [
    "#only finds first level brackets\n",
    "def findBrackets(line):\n",
    "    stack = []\n",
    "    brackets = []\n",
    "    \n",
    "    for i, c in enumerate(line):\n",
    "        if c == \"(\":\n",
    "            stack.append(i)\n",
    "        if c == \")\":\n",
    "            b = stack.pop()\n",
    "            if stack == []: brackets.append((b,i))            \n",
    "            \n",
    "    return sorted(brackets, key=lambda x:x[0])"
   ]
  },
  {
   "cell_type": "markdown",
   "metadata": {},
   "source": [
    "## Part 1"
   ]
  },
  {
   "cell_type": "code",
   "execution_count": 3,
   "metadata": {},
   "outputs": [],
   "source": [
    "def calcLine(line):\n",
    "    \n",
    "    #print(\"Call sum line function: \",line)\n",
    "    \n",
    "    brackets = findBrackets(line)\n",
    "    #print(\"Brackets\", brackets)\n",
    "    \n",
    "    #if starts with a bracket\n",
    "    if line[0] == '(':\n",
    "        e = brackets[0][1]\n",
    "        sumV = calcLine(line[1:e])\n",
    "        i = e + 1\n",
    "    else:\n",
    "        sumV = int(line[0])\n",
    "        i = 1\n",
    "    \n",
    "    #print(sumV, i)\n",
    "    \n",
    "    while i < len(line):\n",
    "        #print(\"Curr Index\", i)\n",
    "        o = line[i]\n",
    "        v = line[i+1]\n",
    "        if v == \"(\":\n",
    "            e = [t[1] for t in brackets if t[0] == i+1][0]\n",
    "            #print(o, line[i+2:e])\n",
    "            v = calcLine(line[i+2:e])\n",
    "            i = e + 1\n",
    "        else:\n",
    "            #print(o, v)\n",
    "            v = int(v)\n",
    "            i = i + 2\n",
    "        \n",
    "        if o == '+': sumV += v\n",
    "        if o == '*': sumV *= v  \n",
    " \n",
    "    return sumV"
   ]
  },
  {
   "cell_type": "code",
   "execution_count": 4,
   "metadata": {},
   "outputs": [
    {
     "name": "stdout",
     "output_type": "stream",
     "text": [
      "5783053349377\n"
     ]
    }
   ],
   "source": [
    "sumV = 0\n",
    "for line in batch:\n",
    "    line = [x for x in line if x != ' ']\n",
    "    sumV += calcLine(line)\n",
    "\n",
    "print(sumV)"
   ]
  },
  {
   "cell_type": "markdown",
   "metadata": {},
   "source": [
    "## Part 2"
   ]
  },
  {
   "cell_type": "code",
   "execution_count": 55,
   "metadata": {},
   "outputs": [],
   "source": [
    "import math\n",
    "\n",
    "def calcLine2(line):\n",
    "    \n",
    "    #print(\"Call calc line function: \",line)\n",
    "    \n",
    "    brackets = findBrackets(line)\n",
    "    #print(\"Brackets\", brackets)\n",
    "        \n",
    "    #if starts with a bracket\n",
    "    if line[0] == '(':\n",
    "        e = brackets[0][1]\n",
    "        left = calcLine2(line[1:e])\n",
    "        i = e + 1\n",
    "    else:\n",
    "        left = int(line[0])\n",
    "        i = 1\n",
    "    \n",
    "    mult = []\n",
    "\n",
    "    while i < len(line):\n",
    "        \n",
    "        o = line[i]\n",
    "        right = line[i+1]\n",
    "        if right == \"(\":\n",
    "            e = [t[1] for t in brackets if t[0] == i+1][0]\n",
    "            #print(o, line[i+2:e])\n",
    "            right = calcLine2(line[i+2:e])\n",
    "            i = e + 1\n",
    "        else:\n",
    "            right = int(right)\n",
    "            i = i + 2\n",
    "\n",
    "        #print(\"Left\", left, \"Right\", right)\n",
    "        \n",
    "        if o == '+':\n",
    "            left = left + right\n",
    "        if o == '*':\n",
    "            mult.append(left) \n",
    "            left = right\n",
    "    \n",
    "    mult.append(left)\n",
    "    \n",
    "    #print(\"New Eq\", mult, math.prod(mult))\n",
    "    return math.prod(mult)"
   ]
  },
  {
   "cell_type": "code",
   "execution_count": 56,
   "metadata": {},
   "outputs": [
    {
     "name": "stdout",
     "output_type": "stream",
     "text": [
      "74821486966872\n"
     ]
    }
   ],
   "source": [
    "sumV = 0\n",
    "for line in batch:\n",
    "    line = [x for x in line if x != ' ']\n",
    "    sumV += calcLine2(line)\n",
    "\n",
    "print(sumV)"
   ]
  },
  {
   "cell_type": "code",
   "execution_count": null,
   "metadata": {},
   "outputs": [],
   "source": []
  }
 ],
 "metadata": {
  "kernelspec": {
   "display_name": "Python 3",
   "language": "python",
   "name": "python3"
  },
  "language_info": {
   "codemirror_mode": {
    "name": "ipython",
    "version": 3
   },
   "file_extension": ".py",
   "mimetype": "text/x-python",
   "name": "python",
   "nbconvert_exporter": "python",
   "pygments_lexer": "ipython3",
   "version": "3.8.3"
  }
 },
 "nbformat": 4,
 "nbformat_minor": 4
}
