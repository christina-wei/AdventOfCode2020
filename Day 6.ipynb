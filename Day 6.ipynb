{
 "cells": [
  {
   "cell_type": "markdown",
   "metadata": {},
   "source": [
    "## Day 6\n",
    "https://adventofcode.com/2020/day/6"
   ]
  },
  {
   "cell_type": "code",
   "execution_count": 17,
   "metadata": {},
   "outputs": [
    {
     "name": "stdout",
     "output_type": "stream",
     "text": [
      "6778\n"
     ]
    }
   ],
   "source": [
    "#Day 6 - Part 1\n",
    "\n",
    "batch = f.read().split('\\n\\n') #Split by two new lines\n",
    "batch = [x.replace('\\n', '') for x in batch] #replace all newline characters\n",
    "\n",
    "q_list = []\n",
    "\n",
    "for item in batch:\n",
    "    q_list.append(len(set(item)))\n",
    "\n",
    "print(sum(q_list))"
   ]
  },
  {
   "cell_type": "code",
   "execution_count": 48,
   "metadata": {},
   "outputs": [
    {
     "name": "stdout",
     "output_type": "stream",
     "text": [
      "3406\n"
     ]
    }
   ],
   "source": [
    "#Day 6 - Part 2\n",
    "f=open(\"Day6.txt\", \"r\")\n",
    "\n",
    "q_unique = set('abcdefghijklmnopqrstuvwxyz')\n",
    "q_list = []\n",
    "\n",
    "for item in f:\n",
    "    item = item.strip()\n",
    "    if (item != \"\"):\n",
    "        q_unique = q_unique & set(item)\n",
    "    else:\n",
    "        q_list.append(len(q_unique))\n",
    "        q_unique = set('abcdefghijklmnopqrstuvwxyz')\n",
    "   \n",
    "q_list.append(len(q_unique))\n",
    "print(sum(q_list))"
   ]
  },
  {
   "cell_type": "code",
   "execution_count": null,
   "metadata": {},
   "outputs": [],
   "source": [
    "f.close()"
   ]
  }
 ],
 "metadata": {
  "kernelspec": {
   "display_name": "Python 3",
   "language": "python",
   "name": "python3"
  },
  "language_info": {
   "codemirror_mode": {
    "name": "ipython",
    "version": 3
   },
   "file_extension": ".py",
   "mimetype": "text/x-python",
   "name": "python",
   "nbconvert_exporter": "python",
   "pygments_lexer": "ipython3",
   "version": "3.8.3"
  }
 },
 "nbformat": 4,
 "nbformat_minor": 4
}
