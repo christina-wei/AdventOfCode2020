{
 "cells": [
  {
   "cell_type": "markdown",
   "metadata": {},
   "source": [
    "## Day 10\n",
    "https://adventofcode.com/2020/day/10"
   ]
  },
  {
   "cell_type": "code",
   "execution_count": 132,
   "metadata": {},
   "outputs": [
    {
     "name": "stdout",
     "output_type": "stream",
     "text": [
      "[1, 2, 5, 6, 7, 8, 9, 12, 13, 14, 15, 16, 19, 20, 21, 22, 23, 26, 27, 28, 29, 30, 33, 34, 35, 38, 41, 44, 45, 46, 47, 48, 51, 52, 53, 54, 55, 58, 59, 60, 61, 64, 65, 66, 67, 68, 71, 72, 75, 76, 77, 78, 79, 82, 83, 86, 89, 90, 91, 92, 93, 96, 99, 100, 101, 102, 103, 106, 107, 108, 109, 110, 113, 114, 115, 116, 119, 122, 123, 124, 125, 126, 129, 132, 133, 134, 135, 136, 139, 142, 143, 144, 145, 146]\n"
     ]
    }
   ],
   "source": [
    "f=open(\"Day 10.txt\", \"r\")\n",
    "batch = f.read().split('\\n') #Split by new lines\n",
    "batch = [int(x) for x in batch] #convert to integer\n",
    "batch.sort()\n",
    "\n",
    "print(batch)\n",
    "\n",
    "device = max(batch) + 3"
   ]
  },
  {
   "cell_type": "code",
   "execution_count": 133,
   "metadata": {},
   "outputs": [
    {
     "name": "stdout",
     "output_type": "stream",
     "text": [
      "Diff 1: 68\n",
      "Diff 3: 27\n",
      "1836\n",
      "[1, 1, 3, 1, 1, 1, 1, 3, 1, 1, 1, 1, 3, 1, 1, 1, 1, 3, 1, 1, 1, 1, 3, 1, 1, 3, 3, 3, 1, 1, 1, 1, 3, 1, 1, 1, 1, 3, 1, 1, 1, 3, 1, 1, 1, 1, 3, 1, 3, 1, 1, 1, 1, 3, 1, 3, 3, 1, 1, 1, 1, 3, 3, 1, 1, 1, 1, 3, 1, 1, 1, 1, 3, 1, 1, 1, 3, 3, 1, 1, 1, 1, 3, 3, 1, 1, 1, 1, 3, 3, 1, 1, 1, 1, 3]\n"
     ]
    }
   ],
   "source": [
    "#Part 1\n",
    "\n",
    "diff1 = 0\n",
    "diff3 = 0\n",
    "\n",
    "batch_l = batch[:-1]\n",
    "batch_r = batch[1:]\n",
    "#print(batch_l)\n",
    "#print(batch_r)\n",
    "\n",
    "batch_diff = [v-batch_l[i] for i,v in enumerate(batch_r)]\n",
    "batch_diff.insert(0, batch[0]) \n",
    "batch_diff.append(3)\n",
    "\n",
    "print(\"Diff 1:\", batch_diff.count(1))\n",
    "print(\"Diff 3:\",batch_diff.count(3))\n",
    "print(batch_diff.count(1) * batch_diff.count(3))\n",
    "\n",
    "print(batch_diff)"
   ]
  },
  {
   "cell_type": "code",
   "execution_count": 139,
   "metadata": {},
   "outputs": [
    {
     "name": "stdout",
     "output_type": "stream",
     "text": [
      "43406276662336\n"
     ]
    }
   ],
   "source": [
    "#Part 2\n",
    "\n",
    "config = 1\n",
    "\n",
    "i = 0\n",
    "i3 = 0\n",
    "while i < len(batch_diff) - 1:\n",
    "    i3 = batch_diff.index(3,i+1,len(batch_diff))\n",
    "    #print(i3, i)\n",
    "    i3_diff = i3 - i - (0 if i==0 else 1)\n",
    "\n",
    "    if i3_diff == 2:\n",
    "        config *= 2\n",
    "    elif i3_diff == 3:\n",
    "        config *= 4\n",
    "    elif i3_diff == 4:\n",
    "        config *= 7\n",
    "    elif i3_diff > 4:\n",
    "        config *= 0 #error\n",
    "    i = i3\n",
    "    #print(i3_diff)\n",
    "\n",
    "print(config)"
   ]
  },
  {
   "cell_type": "markdown",
   "metadata": {},
   "source": [
    "## Potential combos\n",
    "\n",
    "Combo with diff 1,1 = 2\n",
    "\n",
    "| |3|1|1|3|\n",
    "|-|-|-|-|-|\n",
    "|1|4|5|6|9|\n",
    "|1|4| |6|9|\n",
    "\n",
    "\n",
    "Combo with diff 1,1,1 = 4\n",
    "\n",
    "| |3|1|1|1|3|\n",
    "|-|-|-|-|-|-|\n",
    "|1|4|5|6|7|10|\n",
    "|1|4| |6|7|10|\n",
    "|1|4|5| |7|10|\n",
    "|1|4| | |7|10|\n",
    "\n",
    "\n",
    "Combo with diff 1,1,1,1 = 7\n",
    "\n",
    "| |3|1|1|1|1|3|\n",
    "|-|-|-|-|-|-|-|\n",
    "|1|4|5|6|7|8|11|\n",
    "|1|4|5|6| |8|11|\n",
    "|1|4|5| |7|8|11|\n",
    "|1|4| |6|7|8|11|\n",
    "|1|4|5| | |8|11|\n",
    "|1|4| |6| |8|11|\n",
    "|1|4| | |7|8|11|\n"
   ]
  },
  {
   "cell_type": "markdown",
   "metadata": {},
   "source": []
  }
 ],
 "metadata": {
  "kernelspec": {
   "display_name": "Python 3",
   "language": "python",
   "name": "python3"
  },
  "language_info": {
   "codemirror_mode": {
    "name": "ipython",
    "version": 3
   },
   "file_extension": ".py",
   "mimetype": "text/x-python",
   "name": "python",
   "nbconvert_exporter": "python",
   "pygments_lexer": "ipython3",
   "version": "3.8.3"
  }
 },
 "nbformat": 4,
 "nbformat_minor": 4
}
