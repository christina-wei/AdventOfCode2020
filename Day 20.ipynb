{
 "cells": [
  {
   "cell_type": "markdown",
   "metadata": {},
   "source": [
    "# Day 20\n",
    "https://adventofcode.com/2020/day/20"
   ]
  },
  {
   "cell_type": "code",
   "execution_count": 661,
   "metadata": {},
   "outputs": [
    {
     "name": "stdout",
     "output_type": "stream",
     "text": [
      "144 12\n"
     ]
    }
   ],
   "source": [
    "import math\n",
    "\n",
    "f = open(\"Day 20.txt\", \"r\")\n",
    "batch = f.read().split('\\n\\n') #Split by new lines\n",
    "batch = [x.split('\\n') for x in batch]\n",
    "#print(len(batch))\n",
    "\n",
    "tiles = dict()\n",
    "for x in batch:\n",
    "    tiles[int(x[0][5:-1])] = x[1:]\n",
    "\n",
    "#Edges\n",
    "edges = dict()\n",
    "\n",
    "for i in tiles:\n",
    "    #print(i)\n",
    "    tmp = []\n",
    "    tmp.append(tiles[i][0])\n",
    "    tmp.append(''.join([x[-1] for x in tiles[i]]))\n",
    "    tmp.append(tiles[i][-1])\n",
    "\n",
    "    tmp.append(''.join([x[0] for x in tiles[i]]))\n",
    "    edges[i] = tmp\n",
    "    #break\n",
    "    \n",
    "num_tiles = len(tiles)\n",
    "l = int(math.sqrt(num_tiles))\n",
    "\n",
    "print(num_tiles, l)\n",
    "#print(edges)"
   ]
  },
  {
   "cell_type": "markdown",
   "metadata": {},
   "source": [
    "## Part 1"
   ]
  },
  {
   "cell_type": "code",
   "execution_count": 662,
   "metadata": {},
   "outputs": [],
   "source": [
    "def reverse(string):\n",
    "    return ''.join(list(reversed(list(string))))\n",
    "\n",
    "def rotate_once(e_l):\n",
    "    return tuple([e_l[1], reverse(e_l[2]), e_l[3], reverse(e_l[0])])\n",
    "\n",
    "def rotations(k, e_l):\n",
    "    \n",
    "    all_edges = dict()\n",
    "    #edges_set = set()\n",
    "    letters = [chr(ord('@')+i+1) for i in range(26)]\n",
    "    i = 0\n",
    "    \n",
    "    #regular edge - rotate clockwise\n",
    "    all_edges[str(k)+letters[i]] = e_l\n",
    "    i = i + 1\n",
    "        \n",
    "    for x in range(1,4):\n",
    "        all_edges[str(k)+letters[i]] = rotate_once(all_edges[str(k)+letters[i-1]])\n",
    "        i = i + 1\n",
    "        \n",
    "    #print(all_edges)\n",
    "    \n",
    "    #flip vertically down\n",
    "    all_edges[str(k)+letters[i]] = [e_l[2], reverse(e_l[1]), e_l[0], reverse(e_l[3])]\n",
    "    i = i + 1\n",
    "    \n",
    "    for x in range(1,4):\n",
    "        all_edges[str(k)+letters[i]] = rotate_once(all_edges[str(k)+letters[i-1]])\n",
    "        i = i + 1\n",
    "    \n",
    "    return all_edges"
   ]
  },
  {
   "cell_type": "code",
   "execution_count": 671,
   "metadata": {},
   "outputs": [],
   "source": [
    "all_edges = dict()\n",
    "\n",
    "for k in edges:\n",
    "    all_edges.update(rotations(k,edges[k]))\n",
    "\n",
    "#print(len(all_edges))\n",
    "#for x in all_edges: print(x, all_edges[x])"
   ]
  },
  {
   "cell_type": "code",
   "execution_count": 672,
   "metadata": {},
   "outputs": [
    {
     "name": "stdout",
     "output_type": "stream",
     "text": [
      "111936085519519\n",
      "['3593D', '3517A', '2797E', '3167D']\n"
     ]
    }
   ],
   "source": [
    "nesw = [(-1,0), (0,1), (1,0), (0,-1)]\n",
    "next = [2, 3, 0, 1]\n",
    "keys = [k for k in all_edges]\n",
    "\n",
    "index = 12\n",
    "\n",
    "placement = dict()\n",
    "placement[keys[index]] = (0,0)\n",
    "\n",
    "keys_to_check = []\n",
    "keys_to_check.append(keys[index])\n",
    "\n",
    "curr_key = keys[index]\n",
    "curr_edge = all_edges[curr_key]\n",
    "\n",
    "while (len(placement) < num_tiles):\n",
    "\n",
    "    if len(keys_to_check) == 0: break\n",
    "    curr_key = keys_to_check.pop(0) #get the first key to check\n",
    "    curr_edge = all_edges[curr_key]\n",
    "    x, y = placement[curr_key]\n",
    "\n",
    "    #print(\"Round\", i, \"Coordinates\", (x, y), curr_key, curr_edge)\n",
    "\n",
    "    #look at each direction\n",
    "    for n in range(4):\n",
    "        neighbor = (x+nesw[n][0], y+nesw[n][1])\n",
    "\n",
    "        key_nums = set([k[:4] for k in placement])\n",
    "        check_set = [k for k in keys if k[:4] not in key_nums]\n",
    "\n",
    "        check_edges = [(c,all_edges[c][next[n]]) for c in check_set]\n",
    "        #print(check_edges)\n",
    "\n",
    "        match_edges = [i for i, x in enumerate(check_edges) if x[1]==curr_edge[n]]\n",
    "\n",
    "        if len(match_edges) == 1:\n",
    "            match_key = check_edges[match_edges[0]][0]\n",
    "            keys_to_check.append(match_key)\n",
    "            placement[match_key] = neighbor\n",
    "\n",
    "#print(placement)  \n",
    "#print(len(placement))\n",
    "X = set([placement[x][0] for x in placement])\n",
    "Y = set([placement[x][1] for x in placement])\n",
    "corners = [(min(X), min(Y)), (min(X), max(Y)), (max(X), min(Y)), (max(X), max(Y))]\n",
    "#print(corners)\n",
    "#print([int(x[:4]) for x in placement if placement[x] in corners])\n",
    "print(math.prod([int(x[:4]) for x in placement if placement[x] in corners]))\n",
    "\n",
    "\n",
    "placement2 = dict((v,k) for k,v in placement.items()) #flip dictionary\n",
    "#print(placement)\n",
    "print([placement2[c] for c in corners])"
   ]
  },
  {
   "cell_type": "markdown",
   "metadata": {},
   "source": [
    "## Part 2"
   ]
  },
  {
   "cell_type": "code",
   "execution_count": 665,
   "metadata": {},
   "outputs": [],
   "source": [
    "def rotateTile(tile, orientation):\n",
    "    \n",
    "    if orientation == 'A': return tile\n",
    "            \n",
    "    num = ord(orientation) - 65\n",
    "    #print(num)\n",
    "    \n",
    "    #flip first\n",
    "    if num >= 4:\n",
    "        new_tile = [tile[i] for i in range(len(tile)-1,-1,-1)]\n",
    "        num = num - 4\n",
    "    else:\n",
    "        new_tile = tile\n",
    "    \n",
    "    #print(new_tile)\n",
    "    num = (4 - num) % 4\n",
    "    for i in range(num):\n",
    "        new_tile = list(zip(*new_tile[::-1]))\n",
    "    \n",
    "    return [''.join(x) for x in new_tile]\n",
    "\n",
    "def getImage(key):\n",
    "    \n",
    "    key_int = int(key[:4])\n",
    "    key_rot = key[-1]\n",
    "    \n",
    "    return rotateTile(tiles[key_int], key_rot)"
   ]
  },
  {
   "cell_type": "code",
   "execution_count": 668,
   "metadata": {
    "scrolled": true
   },
   "outputs": [],
   "source": [
    "placement2 = dict((v,k) for k,v in placement.items()) #flip dictionary\n",
    "\n",
    "grid = dict()\n",
    "big_tile = []\n",
    "\n",
    "for x_i, x in enumerate(sorted(X)):\n",
    "    for y_i, y in enumerate(sorted(Y)):\n",
    "        #print((x_i,y_i),(x,y), placement2[(x,y)])\n",
    "        new_tile = getImage(placement2[(x,y)])\n",
    "        #for t in new_tile: print(t)\n",
    "        #print('\\n')\n",
    "    \n",
    "        new_tile = [t[1:-1] for t in new_tile[1:-1]]\n",
    "        if x_i not in grid:\n",
    "            grid[x_i] = new_tile\n",
    "        else:\n",
    "            grid[x_i] = [x+y for x,y in zip(grid[x_i], new_tile)]\n",
    "    \n",
    "for x in grid:\n",
    "    for y in grid[x]:\n",
    "        big_tile.append(y)\n",
    "\n",
    "#print(len(big_tile), len(big_tile[0]))\n",
    "#for x in big_tile: print(x)\n",
    "#for x in rotateTile(big_tile, 'E'): print(x)"
   ]
  },
  {
   "cell_type": "code",
   "execution_count": 670,
   "metadata": {},
   "outputs": [
    {
     "data": {
      "text/plain": [
       "1792"
      ]
     },
     "execution_count": 670,
     "metadata": {},
     "output_type": "execute_result"
    }
   ],
   "source": [
    "def findMonster(tile, pattern):\n",
    "    \n",
    "    pattern_i = []\n",
    "    for p in pattern:\n",
    "        pattern_i.append([i for i,v in enumerate(p) if v == '#'])\n",
    "        \n",
    "    #print(pattern_i)\n",
    "    #pattern_i = [i for i in pattern]\n",
    "    \n",
    "    l = len(pattern)\n",
    "    w = len(pattern[0])\n",
    "    \n",
    "    loop_i = len(tile) - l + 1\n",
    "    loop_j = len(tile[0]) - w + 1\n",
    "    \n",
    "    #print(l,w,loop_i, loop_j)\n",
    "    \n",
    "    count = 0\n",
    "    for i in range(loop_i):\n",
    "        for j in range(loop_j):\n",
    "            sub_tile = [t[j:j+w] for t in tile[i:i+l]]\n",
    "            #for x in sub_tile: print(x)\n",
    "            \n",
    "            isValid = True\n",
    "            for k in range(l):\n",
    "                #print(pattern_i[k])\n",
    "                #print(sub_tile[k])\n",
    "                \n",
    "                #print([sub_tile[k][i] for i in pattern_i[k]]\n",
    "                if [sub_tile[k][i] for i in pattern_i[k]].count('.') > 0:\n",
    "                    isValid = False\n",
    "                    break\n",
    "            \n",
    "            count += isValid\n",
    "            #break\n",
    "        #break\n",
    "    \n",
    "    return count\n",
    "    \n",
    "\n",
    "    \n",
    "monster = '''                  # \n",
    "#    ##    ##    ###\n",
    " #  #  #  #  #  #   '''\n",
    "num_monster = monster.count('#')\n",
    "monster = monster.split('\\n')\n",
    "\n",
    "#print(num_monster)\n",
    "#print(monster)\n",
    "\n",
    "#for x in big_tile: print(x)\n",
    "#print(\"\\n\")\n",
    "\n",
    "for i in range(8):\n",
    "    letter = chr(ord('@')+i+1)\n",
    "    count = findMonster(rotateTile(big_tile, letter), monster)\n",
    "    if count > 0: break\n",
    "\n",
    "#Calculate #'s in tile\n",
    "sum([i.count('#') for i in big_tile]) - count * num_monster"
   ]
  },
  {
   "cell_type": "code",
   "execution_count": null,
   "metadata": {},
   "outputs": [],
   "source": []
  }
 ],
 "metadata": {
  "kernelspec": {
   "display_name": "Python 3",
   "language": "python",
   "name": "python3"
  },
  "language_info": {
   "codemirror_mode": {
    "name": "ipython",
    "version": 3
   },
   "file_extension": ".py",
   "mimetype": "text/x-python",
   "name": "python",
   "nbconvert_exporter": "python",
   "pygments_lexer": "ipython3",
   "version": "3.8.3"
  }
 },
 "nbformat": 4,
 "nbformat_minor": 4
}
