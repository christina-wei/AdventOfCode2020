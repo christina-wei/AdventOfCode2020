{
 "cells": [
  {
   "cell_type": "markdown",
   "metadata": {},
   "source": [
    "# Day 22\n",
    "https://adventofcode.com/2020/day/22"
   ]
  },
  {
   "cell_type": "code",
   "execution_count": 29,
   "metadata": {},
   "outputs": [
    {
     "name": "stdout",
     "output_type": "stream",
     "text": [
      "[14, 29, 25, 17, 13, 50, 33, 32, 7, 37, 26, 34, 46, 24, 3, 28, 18, 20, 11, 1, 21, 8, 44, 10, 22]\n",
      "[5, 38, 27, 15, 45, 40, 43, 30, 35, 9, 48, 12, 16, 47, 42, 4, 2, 31, 41, 39, 23, 19, 36, 49, 6]\n",
      "25 25\n"
     ]
    }
   ],
   "source": [
    "f=open(\"Day 22.txt\", \"r\")\n",
    "batch = f.read().split('\\n\\n') #Split by new lines\n",
    "p1 = [int(x) for x in (batch[0].split('\\n'))[1:]]\n",
    "p2 = [int(x) for x in (batch[1].split('\\n'))[1:]]\n",
    "print(p1)\n",
    "print(p2)\n",
    "print(len(p1), len(p2))"
   ]
  },
  {
   "cell_type": "code",
   "execution_count": 30,
   "metadata": {},
   "outputs": [
    {
     "name": "stdout",
     "output_type": "stream",
     "text": [
      "[30, 6, 46, 42, 8, 2, 39, 23, 27, 11, 35, 21, 13, 9, 28, 25, 31, 24, 50, 43, 49, 34, 40, 33, 38, 22, 48, 29, 37, 19, 36, 17, 26, 14, 45, 32, 18, 15, 47, 20, 7, 5, 16, 12, 10, 4, 44, 3, 41, 1]\n",
      "34324\n"
     ]
    }
   ],
   "source": [
    "#Part 1\n",
    "\n",
    "i = 1\n",
    "\n",
    "while True:\n",
    "    #print(\"Round\",i)\n",
    "    if p1[0] > p2[0]:\n",
    "        #print(\"P1 wins\")\n",
    "        p1 = p1[1:] + [p1[0]] + [p2[0]]\n",
    "        p2 = p2[1:]\n",
    "    else:\n",
    "        #print(\"P2 wins\")\n",
    "        p2 = p2[1:] + [p2[0]] + [p1[0]]\n",
    "        p1 = p1[1:]\n",
    "    #print(p1, p2)\n",
    "    i += 1\n",
    "    \n",
    "    if len(p2) == 0 or len(p1) == 0: break\n",
    "\n",
    "final_hand = p1 + p2\n",
    "print(final_hand)\n",
    "print(sum([a*b for a,b in zip(final_hand,list(range(len(final_hand),0,-1)))]))"
   ]
  },
  {
   "cell_type": "code",
   "execution_count": 28,
   "metadata": {},
   "outputs": [
    {
     "name": "stdout",
     "output_type": "stream",
     "text": [
      "33259\n",
      "P1 [32, 18, 20, 7, 42, 12, 24, 4, 31, 16, 15, 10, 50, 38, 48, 35, 41, 26, 30, 14, 34, 22, 27, 23, 25, 2, 46, 33, 44, 9, 43, 17, 37, 3, 49, 39, 47, 36, 40, 28, 13, 6, 45, 19, 21, 8, 29, 5, 11, 1] []\n"
     ]
    }
   ],
   "source": [
    "#Part 2\n",
    "#learned from https://dev.to/qviper/advent-of-code-2020-python-solution-day-22-4lec\n",
    "\n",
    "def recursiveCombat(p1, p2):\n",
    "    \n",
    "    hand_list = set()\n",
    "    \n",
    "    i = 0\n",
    "    while(len(p1) > 0 and len(p2) > 0):\n",
    "        \n",
    "        if (tuple(p1), tuple(p2)) in hand_list:\n",
    "            #print(\"Seen this before!\")\n",
    "            return (\"P1\", p1, p2)\n",
    "\n",
    "        hand_list.add((tuple(p1), tuple(p2)))\n",
    "        #print(hand_list)\n",
    "        \n",
    "        a = p1.pop(0)\n",
    "        b = p2.pop(0)\n",
    "        \n",
    "        #check for sub-game\n",
    "        if (len(p1) >= a and len(p2) >= b):\n",
    "            #print(\"play subgame\")\n",
    "            p1_sub = p1[:a]\n",
    "            p2_sub = p2[:b]\n",
    "            w, _, _ = recursiveCombat(p1_sub, p2_sub)\n",
    "            #print(w)\n",
    "        else:\n",
    "            w = 'P1' if a > b else 'P2'\n",
    "            #print(\"orig game hands\", p1, p2)\n",
    "\n",
    "        if w == 'P1':\n",
    "            p1.append(a)\n",
    "            p1.append(b)\n",
    "        else:\n",
    "            p2.append(b)\n",
    "            p2.append(a)\n",
    "\n",
    "        i += 1\n",
    "        if i % 50000 == 0: print(i)\n",
    "\n",
    "    #exited loop, return winners\n",
    "    #print(i)\n",
    "    winner = \"P1\" if len(p2) == 0 else \"P2\"\n",
    "    return (winner, p1, p2)\n",
    "    \n",
    "#run of the recurive combat game\n",
    "(w, p1F, p2F) = recursiveCombat(p1, p2)\n",
    "final = p1F if w == \"P1\" else p2F\n",
    "print(sum([a*b for a,b in zip(final,list(range(len(final),0,-1)))]))\n",
    "print(w, p1, p2)"
   ]
  }
 ],
 "metadata": {
  "kernelspec": {
   "display_name": "Python 3",
   "language": "python",
   "name": "python3"
  },
  "language_info": {
   "codemirror_mode": {
    "name": "ipython",
    "version": 3
   },
   "file_extension": ".py",
   "mimetype": "text/x-python",
   "name": "python",
   "nbconvert_exporter": "python",
   "pygments_lexer": "ipython3",
   "version": "3.8.3"
  }
 },
 "nbformat": 4,
 "nbformat_minor": 4
}
