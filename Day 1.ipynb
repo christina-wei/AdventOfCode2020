{
 "cells": [
  {
   "cell_type": "markdown",
   "metadata": {},
   "source": [
    "## Day 1\n",
    "https://adventofcode.com/2020/day/1"
   ]
  },
  {
   "cell_type": "code",
   "execution_count": 19,
   "metadata": {},
   "outputs": [
    {
     "name": "stdout",
     "output_type": "stream",
     "text": [
      "[217, 321, 389, 416, 428, 619, 660, 922, 938, 942, 961, 973, 1552, 1623, 1626, 1627, 1633, 1634, 1636, 1640, 1641, 1652, 1654, 1655, 1658, 1660, 1664, 1666, 1668, 1670, 1672, 1676, 1680, 1681, 1683, 1685, 1687, 1688, 1689, 1693, 1695, 1697, 1699, 1700, 1703, 1706, 1707, 1708, 1710, 1711, 1716, 1718, 1719, 1720, 1722, 1723, 1724, 1726, 1730, 1732, 1735, 1737, 1739, 1742, 1743, 1746, 1751, 1753, 1756, 1757, 1758, 1759, 1760, 1763, 1765, 1766, 1770, 1775, 1779, 1781, 1784, 1786, 1788, 1794, 1795, 1796, 1797, 1799, 1802, 1804, 1805, 1806, 1807, 1808, 1809, 1810, 1811, 1814, 1815, 1819, 1823, 1824, 1825, 1826, 1827, 1828, 1829, 1831, 1833, 1837, 1838, 1839, 1847, 1849, 1851, 1856, 1859, 1861, 1863, 1866, 1867, 1868, 1869, 1870, 1871, 1875, 1878, 1882, 1884, 1888, 1889, 1890, 1891, 1894, 1896, 1898, 1900, 1902, 1904, 1906, 1907, 1910, 1915, 1916, 1917, 1918, 1919, 1921, 1922, 1923, 1924, 1925, 1930, 1932, 1933, 1934, 1935, 1937, 1940, 1942, 1943, 1944, 1947, 1949, 1950, 1952, 1953, 1954, 1956, 1957, 1959, 1960, 1964, 1968, 1969, 1971, 1972, 1973, 1976, 1978, 1981, 1982, 1983, 1984, 1986, 1988, 1989, 1990, 1993, 1994, 1998, 2001, 2002, 2003, 2004, 2005, 2006, 2007, 2008, 2009]\n"
     ]
    }
   ],
   "source": [
    "f=open(\"Day 1.txt\", \"r\")\n",
    "batch = f.read().split('\\n') #Split by new line\n",
    "batch = [int(x) for x in batch] #Convert to int array\n",
    "batch.sort()\n",
    "\n",
    "total = 2020\n",
    "print(batch)"
   ]
  },
  {
   "cell_type": "code",
   "execution_count": 20,
   "metadata": {},
   "outputs": [
    {
     "name": "stdout",
     "output_type": "stream",
     "text": [
      "545379\n"
     ]
    }
   ],
   "source": [
    "#Day 1 - Part 1\n",
    "\n",
    "for item in batch:\n",
    "    diff = total - item\n",
    "    if diff in batch:\n",
    "        print(diff * item)\n",
    "        break"
   ]
  },
  {
   "cell_type": "code",
   "execution_count": 29,
   "metadata": {},
   "outputs": [
    {
     "name": "stdout",
     "output_type": "stream",
     "text": [
      "257778836\n",
      "257778836\n"
     ]
    }
   ],
   "source": [
    "#Day 2 - Part 2\n",
    "\n",
    "small_list = [x for x in batch if 2020-x > sum(batch[:2])]\n",
    "\n",
    "for x in range(len(small_list)-1):\n",
    "    for y in range(1,len(small_list)):\n",
    "        diff = total - small_list[x] - small_list[y]\n",
    "        if diff in batch:\n",
    "            print(diff * small_list[x] * small_list[y])\n",
    "            break"
   ]
  },
  {
   "cell_type": "code",
   "execution_count": null,
   "metadata": {},
   "outputs": [],
   "source": []
  }
 ],
 "metadata": {
  "kernelspec": {
   "display_name": "Python 3",
   "language": "python",
   "name": "python3"
  },
  "language_info": {
   "codemirror_mode": {
    "name": "ipython",
    "version": 3
   },
   "file_extension": ".py",
   "mimetype": "text/x-python",
   "name": "python",
   "nbconvert_exporter": "python",
   "pygments_lexer": "ipython3",
   "version": "3.8.3"
  }
 },
 "nbformat": 4,
 "nbformat_minor": 4
}
