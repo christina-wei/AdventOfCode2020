{
 "cells": [
  {
   "cell_type": "markdown",
   "metadata": {},
   "source": [
    "# Day 19\n",
    "https://adventofcode.com/2020/day/19"
   ]
  },
  {
   "cell_type": "code",
   "execution_count": 40,
   "metadata": {},
   "outputs": [],
   "source": [
    "import re\n",
    "\n",
    "f = open(\"Day 19.txt\", \"r\")\n",
    "batch = f.read().split('\\n\\n') #Split by new lines\n",
    "\n",
    "rules = batch[0].split('\\n')\n",
    "messages = batch[1].split('\\n')\n",
    "\n",
    "rules = [x.split(':') for x in rules]\n",
    "\n",
    "rules_dict = dict()\n",
    "for x in rules:\n",
    "    rules_dict[int(x[0])] = x[1].strip().split(' ')\n",
    "\n",
    "rules = rules_dict\n",
    "    \n",
    "#print(rules)\n",
    "#print(messages)"
   ]
  },
  {
   "cell_type": "code",
   "execution_count": 41,
   "metadata": {},
   "outputs": [
    {
     "name": "stdout",
     "output_type": "stream",
     "text": [
      "248\n"
     ]
    }
   ],
   "source": [
    "# Part 1\n",
    "\n",
    "pattern = rules[0]\n",
    "#print(pattern)\n",
    "\n",
    "while True:\n",
    "    tmp = []\n",
    "    isDone = True\n",
    "    for x in pattern:\n",
    "\n",
    "        if x not in ['(',')','|','\"a\"','\"b\"']:\n",
    "            tmp = tmp + ['('] + rules[int(x)] + [')']\n",
    "            isDone = False\n",
    "        else:\n",
    "            tmp = tmp + [x]\n",
    "\n",
    "    if isDone: break\n",
    "    pattern = tmp\n",
    "\n",
    "pattern = ''.join(pattern).replace('\"', '')\n",
    "pattern = '^' + pattern + '$'\n",
    "#print(pattern)\n",
    "    \n",
    "count = 0\n",
    "for m in messages:\n",
    "    count += bool(re.match(pattern, m))\n",
    "\n",
    "print(count)"
   ]
  },
  {
   "cell_type": "code",
   "execution_count": 42,
   "metadata": {},
   "outputs": [
    {
     "name": "stdout",
     "output_type": "stream",
     "text": [
      "381\n"
     ]
    }
   ],
   "source": [
    "# Part 2\n",
    "\n",
    "infinite = ['8', '11']\n",
    "rules[8] = ['42', '|', '42', '8']\n",
    "rules[11] = ['42', '31', '|', '42', '11', '31']\n",
    "\n",
    "pattern = rules[0]\n",
    "#print(pattern)\n",
    "\n",
    "i = 0\n",
    "while True:\n",
    "    tmp = []\n",
    "    isDone = True\n",
    "    for x in pattern:\n",
    "\n",
    "        if x not in ['(',')','|','\"a\"','\"b\"', '8', '11', '+']:\n",
    "            tmp = tmp + ['('] + rules[int(x)] + [')']\n",
    "            isDone = False\n",
    "        elif x == '8':\n",
    "            tmp = tmp + ['(','42',')','+']\n",
    "            isDone = False\n",
    "        elif x == '11':\n",
    "            tmp = tmp + ['(','42','31','|','42','42','31','31','|','42','42','42','31','31','31','|','42','42','42','42','31','31','31','31','|','42','42','42','42','42','31','31','31','31','31','|','42','42','42','42','42','42','31','31','31','31','31','31',')']         \n",
    "            isDone = False\n",
    "        else:\n",
    "            tmp = tmp + [x]\n",
    "            \n",
    "            \n",
    "\n",
    "    if isDone: break\n",
    "    pattern = tmp\n",
    "    i += 1\n",
    "    #print(i)\n",
    "    #print(pattern)\n",
    "    #if i > 10: break\n",
    "    \n",
    "#print(len(pattern))\n",
    "#print(sorted(set(pattern)))\n",
    "#print(len(set(pattern)))\n",
    "\n",
    "pattern = ''.join(pattern).replace('\"', '')\n",
    "pattern = '^' + pattern + '$'\n",
    "    \n",
    "count = 0\n",
    "for m in messages:\n",
    "    count += bool(re.match(pattern, m))\n",
    "\n",
    "print(count)"
   ]
  },
  {
   "cell_type": "code",
   "execution_count": null,
   "metadata": {},
   "outputs": [],
   "source": []
  }
 ],
 "metadata": {
  "kernelspec": {
   "display_name": "Python 3",
   "language": "python",
   "name": "python3"
  },
  "language_info": {
   "codemirror_mode": {
    "name": "ipython",
    "version": 3
   },
   "file_extension": ".py",
   "mimetype": "text/x-python",
   "name": "python",
   "nbconvert_exporter": "python",
   "pygments_lexer": "ipython3",
   "version": "3.8.3"
  }
 },
 "nbformat": 4,
 "nbformat_minor": 4
}
